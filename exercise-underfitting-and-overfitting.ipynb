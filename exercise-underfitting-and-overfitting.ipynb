{
 "cells": [
  {
   "cell_type": "markdown",
   "id": "2262a806",
   "metadata": {
    "papermill": {
     "duration": 0.009792,
     "end_time": "2021-07-14T13:57:08.277628",
     "exception": false,
     "start_time": "2021-07-14T13:57:08.267836",
     "status": "completed"
    },
    "tags": []
   },
   "source": [
    "**This notebook is an exercise in the [Introduction to Machine Learning](https://www.kaggle.com/learn/intro-to-machine-learning) course.  You can reference the tutorial at [this link](https://www.kaggle.com/dansbecker/underfitting-and-overfitting).**\n",
    "\n",
    "---\n"
   ]
  },
  {
   "cell_type": "markdown",
   "id": "6b979aa6",
   "metadata": {
    "papermill": {
     "duration": 0.010851,
     "end_time": "2021-07-14T13:57:08.297411",
     "exception": false,
     "start_time": "2021-07-14T13:57:08.286560",
     "status": "completed"
    },
    "tags": []
   },
   "source": [
    "## Recap\n",
    "You've built your first model, and now it's time to optimize the size of the tree to make better predictions. Run this cell to set up your coding environment where the previous step left off."
   ]
  },
  {
   "cell_type": "code",
   "execution_count": 1,
   "id": "39deebdc",
   "metadata": {
    "execution": {
     "iopub.execute_input": "2021-07-14T13:57:08.337675Z",
     "iopub.status.busy": "2021-07-14T13:57:08.335085Z",
     "iopub.status.idle": "2021-07-14T13:57:09.678812Z",
     "shell.execute_reply": "2021-07-14T13:57:09.679569Z"
    },
    "papermill": {
     "duration": 1.371159,
     "end_time": "2021-07-14T13:57:09.679927",
     "exception": false,
     "start_time": "2021-07-14T13:57:08.308768",
     "status": "completed"
    },
    "tags": []
   },
   "outputs": [
    {
     "name": "stdout",
     "output_type": "stream",
     "text": [
      "Validation MAE: 29,653\n",
      "\n",
      "Setup complete\n"
     ]
    }
   ],
   "source": [
    "# Code you have previously used to load data\n",
    "import pandas as pd\n",
    "from sklearn.metrics import mean_absolute_error\n",
    "from sklearn.model_selection import train_test_split\n",
    "from sklearn.tree import DecisionTreeRegressor\n",
    "\n",
    "\n",
    "# Path of the file to read\n",
    "iowa_file_path = '../input/home-data-for-ml-course/train.csv'\n",
    "\n",
    "home_data = pd.read_csv(iowa_file_path)\n",
    "# Create target object and call it y\n",
    "y = home_data.SalePrice\n",
    "# Create X\n",
    "features = ['LotArea', 'YearBuilt', '1stFlrSF', '2ndFlrSF', 'FullBath', 'BedroomAbvGr', 'TotRmsAbvGrd']\n",
    "X = home_data[features]\n",
    "\n",
    "# Split into validation and training data\n",
    "train_X, val_X, train_y, val_y = train_test_split(X, y, random_state=1)\n",
    "\n",
    "# Specify Model\n",
    "iowa_model = DecisionTreeRegressor(random_state=1)\n",
    "# Fit Model\n",
    "iowa_model.fit(train_X, train_y)\n",
    "\n",
    "# Make validation predictions and calculate mean absolute error\n",
    "val_predictions = iowa_model.predict(val_X)\n",
    "val_mae = mean_absolute_error(val_predictions, val_y)\n",
    "print(\"Validation MAE: {:,.0f}\".format(val_mae))\n",
    "\n",
    "# Set up code checking\n",
    "from learntools.core import binder\n",
    "binder.bind(globals())\n",
    "from learntools.machine_learning.ex5 import *\n",
    "print(\"\\nSetup complete\")"
   ]
  },
  {
   "cell_type": "markdown",
   "id": "b0ff4895",
   "metadata": {
    "papermill": {
     "duration": 0.009131,
     "end_time": "2021-07-14T13:57:09.699344",
     "exception": false,
     "start_time": "2021-07-14T13:57:09.690213",
     "status": "completed"
    },
    "tags": []
   },
   "source": [
    "# Exercises\n",
    "You could write the function `get_mae` yourself. For now, we'll supply it. This is the same function you read about in the previous lesson. Just run the cell below."
   ]
  },
  {
   "cell_type": "code",
   "execution_count": 2,
   "id": "cb39dd87",
   "metadata": {
    "execution": {
     "iopub.execute_input": "2021-07-14T13:57:09.725038Z",
     "iopub.status.busy": "2021-07-14T13:57:09.724040Z",
     "iopub.status.idle": "2021-07-14T13:57:09.727494Z",
     "shell.execute_reply": "2021-07-14T13:57:09.726982Z"
    },
    "papermill": {
     "duration": 0.018441,
     "end_time": "2021-07-14T13:57:09.727669",
     "exception": false,
     "start_time": "2021-07-14T13:57:09.709228",
     "status": "completed"
    },
    "tags": []
   },
   "outputs": [],
   "source": [
    "def get_mae(max_leaf_nodes, train_X, val_X, train_y, val_y):\n",
    "    model = DecisionTreeRegressor(max_leaf_nodes=max_leaf_nodes, random_state=0)\n",
    "    model.fit(train_X, train_y)\n",
    "    preds_val = model.predict(val_X)\n",
    "    mae = mean_absolute_error(val_y, preds_val)\n",
    "    return(mae)"
   ]
  },
  {
   "cell_type": "markdown",
   "id": "34c1a44c",
   "metadata": {
    "papermill": {
     "duration": 0.008963,
     "end_time": "2021-07-14T13:57:09.745986",
     "exception": false,
     "start_time": "2021-07-14T13:57:09.737023",
     "status": "completed"
    },
    "tags": []
   },
   "source": [
    "## Step 1: Compare Different Tree Sizes\n",
    "Write a loop that tries the following values for *max_leaf_nodes* from a set of possible values.\n",
    "\n",
    "Call the *get_mae* function on each value of max_leaf_nodes. Store the output in some way that allows you to select the value of `max_leaf_nodes` that gives the most accurate model on your data."
   ]
  },
  {
   "cell_type": "code",
   "execution_count": 3,
   "id": "b8f1ebdd",
   "metadata": {
    "execution": {
     "iopub.execute_input": "2021-07-14T13:57:09.774280Z",
     "iopub.status.busy": "2021-07-14T13:57:09.773523Z",
     "iopub.status.idle": "2021-07-14T13:57:09.831097Z",
     "shell.execute_reply": "2021-07-14T13:57:09.831601Z"
    },
    "papermill": {
     "duration": 0.076501,
     "end_time": "2021-07-14T13:57:09.831781",
     "exception": false,
     "start_time": "2021-07-14T13:57:09.755280",
     "status": "completed"
    },
    "tags": []
   },
   "outputs": [
    {
     "data": {
      "application/javascript": [
       "parent.postMessage({\"jupyterEvent\": \"custom.exercise_interaction\", \"data\": {\"outcomeType\": 1, \"valueTowardsCompletion\": 0.5, \"interactionType\": 1, \"questionType\": 1, \"questionId\": \"1_BestTreeSize\", \"learnToolsVersion\": \"0.3.4\", \"failureMessage\": \"\", \"exceptionClass\": \"\", \"trace\": \"\"}}, \"*\")"
      ],
      "text/plain": [
       "<IPython.core.display.Javascript object>"
      ]
     },
     "metadata": {},
     "output_type": "display_data"
    },
    {
     "data": {
      "text/markdown": [
       "<span style=\"color:#33cc33\">Correct</span>"
      ],
      "text/plain": [
       "Correct"
      ]
     },
     "metadata": {},
     "output_type": "display_data"
    }
   ],
   "source": [
    "candidate_max_leaf_nodes = [5, 25, 50, 100, 250, 500]\n",
    "\n",
    "# Write loop to find the ideal tree size from candidate_max_leaf_nodes\n",
    "loop = {my_mae: get_mae(my_mae, train_X, val_X, train_y, val_y) for my_mae in candidate_max_leaf_nodes}\n",
    "\n",
    "# Store the best value of max_leaf_nodes (it will be either 5, 25, 50, 100, 250 or 500)\n",
    "best_tree_size = min(loop,key=loop.get)\n",
    "\n",
    "# Check your answer\n",
    "step_1.check()"
   ]
  },
  {
   "cell_type": "code",
   "execution_count": 4,
   "id": "4eaa9709",
   "metadata": {
    "execution": {
     "iopub.execute_input": "2021-07-14T13:57:09.857092Z",
     "iopub.status.busy": "2021-07-14T13:57:09.856383Z",
     "iopub.status.idle": "2021-07-14T13:57:09.858242Z",
     "shell.execute_reply": "2021-07-14T13:57:09.858739Z"
    },
    "papermill": {
     "duration": 0.016596,
     "end_time": "2021-07-14T13:57:09.858917",
     "exception": false,
     "start_time": "2021-07-14T13:57:09.842321",
     "status": "completed"
    },
    "tags": []
   },
   "outputs": [],
   "source": [
    "# The lines below will show you a hint or the solution.\n",
    "#step_1.hint() \n",
    "#step_1.solution()"
   ]
  },
  {
   "cell_type": "markdown",
   "id": "8c9a003e",
   "metadata": {
    "papermill": {
     "duration": 0.010232,
     "end_time": "2021-07-14T13:57:09.879843",
     "exception": false,
     "start_time": "2021-07-14T13:57:09.869611",
     "status": "completed"
    },
    "tags": []
   },
   "source": [
    "## Step 2: Fit Model Using All Data\n",
    "You know the best tree size. If you were going to deploy this model in practice, you would make it even more accurate by using all of the data and keeping that tree size.  That is, you don't need to hold out the validation data now that you've made all your modeling decisions."
   ]
  },
  {
   "cell_type": "code",
   "execution_count": 5,
   "id": "c0e7dd0d",
   "metadata": {
    "execution": {
     "iopub.execute_input": "2021-07-14T13:57:09.909421Z",
     "iopub.status.busy": "2021-07-14T13:57:09.908523Z",
     "iopub.status.idle": "2021-07-14T13:57:09.921921Z",
     "shell.execute_reply": "2021-07-14T13:57:09.922415Z"
    },
    "papermill": {
     "duration": 0.032219,
     "end_time": "2021-07-14T13:57:09.922625",
     "exception": false,
     "start_time": "2021-07-14T13:57:09.890406",
     "status": "completed"
    },
    "tags": []
   },
   "outputs": [
    {
     "data": {
      "application/javascript": [
       "parent.postMessage({\"jupyterEvent\": \"custom.exercise_interaction\", \"data\": {\"outcomeType\": 1, \"valueTowardsCompletion\": 0.5, \"interactionType\": 1, \"questionType\": 2, \"questionId\": \"2_FitModelWithAllData\", \"learnToolsVersion\": \"0.3.4\", \"failureMessage\": \"\", \"exceptionClass\": \"\", \"trace\": \"\"}}, \"*\")"
      ],
      "text/plain": [
       "<IPython.core.display.Javascript object>"
      ]
     },
     "metadata": {},
     "output_type": "display_data"
    },
    {
     "data": {
      "text/markdown": [
       "<span style=\"color:#33cc33\">Correct</span>"
      ],
      "text/plain": [
       "Correct"
      ]
     },
     "metadata": {},
     "output_type": "display_data"
    }
   ],
   "source": [
    "# Fill in argument to make optimal size and uncomment\n",
    "final_model = DecisionTreeRegressor(random_state=1,max_leaf_nodes=best_tree_size)\n",
    "\n",
    "# fit the final model and uncomment the next two lines\n",
    "final_model.fit(X,y)\n",
    "\n",
    "# Check your answer\n",
    "step_2.check()"
   ]
  },
  {
   "cell_type": "code",
   "execution_count": 6,
   "id": "2fe3cf68",
   "metadata": {
    "execution": {
     "iopub.execute_input": "2021-07-14T13:57:09.949564Z",
     "iopub.status.busy": "2021-07-14T13:57:09.948898Z",
     "iopub.status.idle": "2021-07-14T13:57:09.957946Z",
     "shell.execute_reply": "2021-07-14T13:57:09.957374Z"
    },
    "papermill": {
     "duration": 0.023644,
     "end_time": "2021-07-14T13:57:09.958098",
     "exception": false,
     "start_time": "2021-07-14T13:57:09.934454",
     "status": "completed"
    },
    "tags": []
   },
   "outputs": [
    {
     "data": {
      "application/javascript": [
       "parent.postMessage({\"jupyterEvent\": \"custom.exercise_interaction\", \"data\": {\"interactionType\": 2, \"questionType\": 2, \"questionId\": \"2_FitModelWithAllData\", \"learnToolsVersion\": \"0.3.4\", \"valueTowardsCompletion\": 0.0, \"failureMessage\": \"\", \"exceptionClass\": \"\", \"trace\": \"\", \"outcomeType\": 4}}, \"*\")"
      ],
      "text/plain": [
       "<IPython.core.display.Javascript object>"
      ]
     },
     "metadata": {},
     "output_type": "display_data"
    },
    {
     "data": {
      "text/markdown": [
       "<span style=\"color:#3366cc\">Hint:</span> Fit with the ideal value of max_leaf_nodes. In the fit step, use all of the data in the dataset"
      ],
      "text/plain": [
       "Hint: Fit with the ideal value of max_leaf_nodes. In the fit step, use all of the data in the dataset"
      ]
     },
     "metadata": {},
     "output_type": "display_data"
    }
   ],
   "source": [
    " step_2.hint()\n",
    "# step_2.solution()"
   ]
  },
  {
   "cell_type": "markdown",
   "id": "e7b18caa",
   "metadata": {
    "papermill": {
     "duration": 0.012416,
     "end_time": "2021-07-14T13:57:09.983604",
     "exception": false,
     "start_time": "2021-07-14T13:57:09.971188",
     "status": "completed"
    },
    "tags": []
   },
   "source": [
    "You've tuned this model and improved your results. But we are still using Decision Tree models, which are not very sophisticated by modern machine learning standards. In the next step you will learn to use Random Forests to improve your models even more.\n",
    "\n",
    "# Keep Going\n",
    "\n",
    "You are ready for **[Random Forests](https://www.kaggle.com/dansbecker/random-forests).**\n"
   ]
  },
  {
   "cell_type": "markdown",
   "id": "45102ea7",
   "metadata": {
    "papermill": {
     "duration": 0.015051,
     "end_time": "2021-07-14T13:57:10.012433",
     "exception": false,
     "start_time": "2021-07-14T13:57:09.997382",
     "status": "completed"
    },
    "tags": []
   },
   "source": [
    "---\n",
    "\n",
    "\n",
    "\n",
    "\n",
    "*Have questions or comments? Visit the [Learn Discussion forum](https://www.kaggle.com/learn-forum/161285) to chat with other Learners.*"
   ]
  }
 ],
 "metadata": {
  "kernelspec": {
   "display_name": "Python 3",
   "language": "python",
   "name": "python3"
  },
  "language_info": {
   "codemirror_mode": {
    "name": "ipython",
    "version": 3
   },
   "file_extension": ".py",
   "mimetype": "text/x-python",
   "name": "python",
   "nbconvert_exporter": "python",
   "pygments_lexer": "ipython3",
   "version": "3.7.10"
  },
  "papermill": {
   "default_parameters": {},
   "duration": 11.860301,
   "end_time": "2021-07-14T13:57:11.557237",
   "environment_variables": {},
   "exception": null,
   "input_path": "__notebook__.ipynb",
   "output_path": "__notebook__.ipynb",
   "parameters": {},
   "start_time": "2021-07-14T13:56:59.696936",
   "version": "2.3.3"
  }
 },
 "nbformat": 4,
 "nbformat_minor": 5
}
