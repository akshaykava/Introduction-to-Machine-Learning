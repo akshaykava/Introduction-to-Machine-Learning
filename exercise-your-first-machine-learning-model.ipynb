{
 "cells": [
  {
   "cell_type": "markdown",
   "id": "9bc50b5d",
   "metadata": {
    "papermill": {
     "duration": 0.016048,
     "end_time": "2021-07-14T13:47:53.954324",
     "exception": false,
     "start_time": "2021-07-14T13:47:53.938276",
     "status": "completed"
    },
    "tags": []
   },
   "source": [
    "**This notebook is an exercise in the [Introduction to Machine Learning](https://www.kaggle.com/learn/intro-to-machine-learning) course.  You can reference the tutorial at [this link](https://www.kaggle.com/dansbecker/your-first-machine-learning-model).**\n",
    "\n",
    "---\n"
   ]
  },
  {
   "cell_type": "markdown",
   "id": "13b73aa4",
   "metadata": {
    "papermill": {
     "duration": 0.013658,
     "end_time": "2021-07-14T13:47:53.982427",
     "exception": false,
     "start_time": "2021-07-14T13:47:53.968769",
     "status": "completed"
    },
    "tags": []
   },
   "source": [
    "## Recap\n",
    "So far, you have loaded your data and reviewed it with the following code. Run this cell to set up your coding environment where the previous step left off."
   ]
  },
  {
   "cell_type": "code",
   "execution_count": 1,
   "id": "035888c4",
   "metadata": {
    "execution": {
     "iopub.execute_input": "2021-07-14T13:47:54.023660Z",
     "iopub.status.busy": "2021-07-14T13:47:54.022745Z",
     "iopub.status.idle": "2021-07-14T13:47:55.429334Z",
     "shell.execute_reply": "2021-07-14T13:47:55.428394Z"
    },
    "papermill": {
     "duration": 1.433367,
     "end_time": "2021-07-14T13:47:55.429686",
     "exception": false,
     "start_time": "2021-07-14T13:47:53.996319",
     "status": "completed"
    },
    "tags": []
   },
   "outputs": [
    {
     "name": "stdout",
     "output_type": "stream",
     "text": [
      "Setup Complete\n"
     ]
    }
   ],
   "source": [
    "# Code you have previously used to load data\n",
    "import pandas as pd\n",
    "\n",
    "# Path of the file to read\n",
    "iowa_file_path = '../input/home-data-for-ml-course/train.csv'\n",
    "\n",
    "home_data = pd.read_csv(iowa_file_path)\n",
    "\n",
    "# Set up code checking\n",
    "from learntools.core import binder\n",
    "binder.bind(globals())\n",
    "from learntools.machine_learning.ex3 import *\n",
    "\n",
    "print(\"Setup Complete\")"
   ]
  },
  {
   "cell_type": "markdown",
   "id": "11900167",
   "metadata": {
    "papermill": {
     "duration": 0.014315,
     "end_time": "2021-07-14T13:47:55.460205",
     "exception": false,
     "start_time": "2021-07-14T13:47:55.445890",
     "status": "completed"
    },
    "tags": []
   },
   "source": [
    "# Exercises\n",
    "\n",
    "## Step 1: Specify Prediction Target\n",
    "Select the target variable, which corresponds to the sales price. Save this to a new variable called `y`. You'll need to print a list of the columns to find the name of the column you need.\n"
   ]
  },
  {
   "cell_type": "code",
   "execution_count": 2,
   "id": "dbbd0b99",
   "metadata": {
    "execution": {
     "iopub.execute_input": "2021-07-14T13:47:55.498427Z",
     "iopub.status.busy": "2021-07-14T13:47:55.497739Z",
     "iopub.status.idle": "2021-07-14T13:47:55.500887Z",
     "shell.execute_reply": "2021-07-14T13:47:55.501433Z"
    },
    "papermill": {
     "duration": 0.026662,
     "end_time": "2021-07-14T13:47:55.501603",
     "exception": false,
     "start_time": "2021-07-14T13:47:55.474941",
     "status": "completed"
    },
    "tags": []
   },
   "outputs": [
    {
     "data": {
      "text/plain": [
       "Index(['Id', 'MSSubClass', 'MSZoning', 'LotFrontage', 'LotArea', 'Street',\n",
       "       'Alley', 'LotShape', 'LandContour', 'Utilities', 'LotConfig',\n",
       "       'LandSlope', 'Neighborhood', 'Condition1', 'Condition2', 'BldgType',\n",
       "       'HouseStyle', 'OverallQual', 'OverallCond', 'YearBuilt', 'YearRemodAdd',\n",
       "       'RoofStyle', 'RoofMatl', 'Exterior1st', 'Exterior2nd', 'MasVnrType',\n",
       "       'MasVnrArea', 'ExterQual', 'ExterCond', 'Foundation', 'BsmtQual',\n",
       "       'BsmtCond', 'BsmtExposure', 'BsmtFinType1', 'BsmtFinSF1',\n",
       "       'BsmtFinType2', 'BsmtFinSF2', 'BsmtUnfSF', 'TotalBsmtSF', 'Heating',\n",
       "       'HeatingQC', 'CentralAir', 'Electrical', '1stFlrSF', '2ndFlrSF',\n",
       "       'LowQualFinSF', 'GrLivArea', 'BsmtFullBath', 'BsmtHalfBath', 'FullBath',\n",
       "       'HalfBath', 'BedroomAbvGr', 'KitchenAbvGr', 'KitchenQual',\n",
       "       'TotRmsAbvGrd', 'Functional', 'Fireplaces', 'FireplaceQu', 'GarageType',\n",
       "       'GarageYrBlt', 'GarageFinish', 'GarageCars', 'GarageArea', 'GarageQual',\n",
       "       'GarageCond', 'PavedDrive', 'WoodDeckSF', 'OpenPorchSF',\n",
       "       'EnclosedPorch', '3SsnPorch', 'ScreenPorch', 'PoolArea', 'PoolQC',\n",
       "       'Fence', 'MiscFeature', 'MiscVal', 'MoSold', 'YrSold', 'SaleType',\n",
       "       'SaleCondition', 'SalePrice'],\n",
       "      dtype='object')"
      ]
     },
     "execution_count": 2,
     "metadata": {},
     "output_type": "execute_result"
    }
   ],
   "source": [
    "# print the list of columns in the dataset to find the name of the prediction target\n",
    "home_data.columns"
   ]
  },
  {
   "cell_type": "code",
   "execution_count": 3,
   "id": "e0a804d7",
   "metadata": {
    "execution": {
     "iopub.execute_input": "2021-07-14T13:47:55.535297Z",
     "iopub.status.busy": "2021-07-14T13:47:55.534593Z",
     "iopub.status.idle": "2021-07-14T13:47:55.553053Z",
     "shell.execute_reply": "2021-07-14T13:47:55.552330Z"
    },
    "papermill": {
     "duration": 0.036539,
     "end_time": "2021-07-14T13:47:55.553211",
     "exception": false,
     "start_time": "2021-07-14T13:47:55.516672",
     "status": "completed"
    },
    "tags": []
   },
   "outputs": [
    {
     "data": {
      "application/javascript": [
       "parent.postMessage({\"jupyterEvent\": \"custom.exercise_interaction\", \"data\": {\"outcomeType\": 1, \"valueTowardsCompletion\": 0.25, \"interactionType\": 1, \"questionType\": 2, \"questionId\": \"1_SetTarget\", \"learnToolsVersion\": \"0.3.4\", \"failureMessage\": \"\", \"exceptionClass\": \"\", \"trace\": \"\"}}, \"*\")"
      ],
      "text/plain": [
       "<IPython.core.display.Javascript object>"
      ]
     },
     "metadata": {},
     "output_type": "display_data"
    },
    {
     "data": {
      "text/markdown": [
       "<span style=\"color:#33cc33\">Correct</span>"
      ],
      "text/plain": [
       "Correct"
      ]
     },
     "metadata": {},
     "output_type": "display_data"
    }
   ],
   "source": [
    "y = home_data.SalePrice\n",
    "\n",
    "# Check your answer\n",
    "step_1.check()"
   ]
  },
  {
   "cell_type": "code",
   "execution_count": 4,
   "id": "6e94c250",
   "metadata": {
    "collapsed": true,
    "execution": {
     "iopub.execute_input": "2021-07-14T13:47:55.589090Z",
     "iopub.status.busy": "2021-07-14T13:47:55.588449Z",
     "iopub.status.idle": "2021-07-14T13:47:55.591536Z",
     "shell.execute_reply": "2021-07-14T13:47:55.592102Z"
    },
    "jupyter": {
     "outputs_hidden": true
    },
    "papermill": {
     "duration": 0.022342,
     "end_time": "2021-07-14T13:47:55.592277",
     "exception": false,
     "start_time": "2021-07-14T13:47:55.569935",
     "status": "completed"
    },
    "tags": []
   },
   "outputs": [],
   "source": [
    "# The lines below will show you a hint or the solution.\n",
    "# step_1.hint() \n",
    "# step_1.solution()"
   ]
  },
  {
   "cell_type": "markdown",
   "id": "bc09f047",
   "metadata": {
    "papermill": {
     "duration": 0.015666,
     "end_time": "2021-07-14T13:47:55.624545",
     "exception": false,
     "start_time": "2021-07-14T13:47:55.608879",
     "status": "completed"
    },
    "tags": []
   },
   "source": [
    "## Step 2: Create X\n",
    "Now you will create a DataFrame called `X` holding the predictive features.\n",
    "\n",
    "Since you want only some columns from the original data, you'll first create a list with the names of the columns you want in `X`.\n",
    "\n",
    "You'll use just the following columns in the list (you can copy and paste the whole list to save some typing, though you'll still need to add quotes):\n",
    "    * LotArea\n",
    "    * YearBuilt\n",
    "    * 1stFlrSF\n",
    "    * 2ndFlrSF\n",
    "    * FullBath\n",
    "    * BedroomAbvGr\n",
    "    * TotRmsAbvGrd\n",
    "\n",
    "After you've created that list of features, use it to create the DataFrame that you'll use to fit the model."
   ]
  },
  {
   "cell_type": "code",
   "execution_count": 5,
   "id": "1725c801",
   "metadata": {
    "execution": {
     "iopub.execute_input": "2021-07-14T13:47:55.660756Z",
     "iopub.status.busy": "2021-07-14T13:47:55.660053Z",
     "iopub.status.idle": "2021-07-14T13:47:55.670697Z",
     "shell.execute_reply": "2021-07-14T13:47:55.671231Z"
    },
    "papermill": {
     "duration": 0.030591,
     "end_time": "2021-07-14T13:47:55.671401",
     "exception": false,
     "start_time": "2021-07-14T13:47:55.640810",
     "status": "completed"
    },
    "tags": []
   },
   "outputs": [
    {
     "data": {
      "application/javascript": [
       "parent.postMessage({\"jupyterEvent\": \"custom.exercise_interaction\", \"data\": {\"outcomeType\": 1, \"valueTowardsCompletion\": 0.25, \"interactionType\": 1, \"questionType\": 2, \"questionId\": \"2_SelectPredictionData\", \"learnToolsVersion\": \"0.3.4\", \"failureMessage\": \"\", \"exceptionClass\": \"\", \"trace\": \"\"}}, \"*\")"
      ],
      "text/plain": [
       "<IPython.core.display.Javascript object>"
      ]
     },
     "metadata": {},
     "output_type": "display_data"
    },
    {
     "data": {
      "text/markdown": [
       "<span style=\"color:#33cc33\">Correct</span>"
      ],
      "text/plain": [
       "Correct"
      ]
     },
     "metadata": {},
     "output_type": "display_data"
    }
   ],
   "source": [
    "# Create the list of features below\n",
    "feature_names = ['LotArea','YearBuilt','1stFlrSF','2ndFlrSF','FullBath','BedroomAbvGr','TotRmsAbvGrd']\n",
    "\n",
    "# Select data corresponding to features in feature_names\n",
    "X = home_data[feature_names]\n",
    "\n",
    "# Check your answer\n",
    "step_2.check()"
   ]
  },
  {
   "cell_type": "code",
   "execution_count": 6,
   "id": "54e018ce",
   "metadata": {
    "execution": {
     "iopub.execute_input": "2021-07-14T13:47:55.709344Z",
     "iopub.status.busy": "2021-07-14T13:47:55.708668Z",
     "iopub.status.idle": "2021-07-14T13:47:55.717499Z",
     "shell.execute_reply": "2021-07-14T13:47:55.716910Z"
    },
    "papermill": {
     "duration": 0.029039,
     "end_time": "2021-07-14T13:47:55.717643",
     "exception": false,
     "start_time": "2021-07-14T13:47:55.688604",
     "status": "completed"
    },
    "tags": []
   },
   "outputs": [
    {
     "data": {
      "application/javascript": [
       "parent.postMessage({\"jupyterEvent\": \"custom.exercise_interaction\", \"data\": {\"interactionType\": 2, \"questionType\": 2, \"questionId\": \"2_SelectPredictionData\", \"learnToolsVersion\": \"0.3.4\", \"valueTowardsCompletion\": 0.0, \"failureMessage\": \"\", \"exceptionClass\": \"\", \"trace\": \"\", \"outcomeType\": 4}}, \"*\")"
      ],
      "text/plain": [
       "<IPython.core.display.Javascript object>"
      ]
     },
     "metadata": {},
     "output_type": "display_data"
    },
    {
     "data": {
      "text/markdown": [
       "<span style=\"color:#3366cc\">Hint:</span> Capitalization and spelling are important when specifying variable names. Use the brackets notation when specifying data for X."
      ],
      "text/plain": [
       "Hint: Capitalization and spelling are important when specifying variable names. Use the brackets notation when specifying data for X."
      ]
     },
     "metadata": {},
     "output_type": "display_data"
    }
   ],
   "source": [
    " step_2.hint()\n",
    "# step_2.solution()"
   ]
  },
  {
   "cell_type": "markdown",
   "id": "0a9588b6",
   "metadata": {
    "papermill": {
     "duration": 0.018204,
     "end_time": "2021-07-14T13:47:55.755070",
     "exception": false,
     "start_time": "2021-07-14T13:47:55.736866",
     "status": "completed"
    },
    "tags": []
   },
   "source": [
    "## Review Data\n",
    "Before building a model, take a quick look at **X** to verify it looks sensible"
   ]
  },
  {
   "cell_type": "code",
   "execution_count": 7,
   "id": "e130d9f4",
   "metadata": {
    "execution": {
     "iopub.execute_input": "2021-07-14T13:47:55.800374Z",
     "iopub.status.busy": "2021-07-14T13:47:55.799324Z",
     "iopub.status.idle": "2021-07-14T13:47:55.815881Z",
     "shell.execute_reply": "2021-07-14T13:47:55.816422Z"
    },
    "papermill": {
     "duration": 0.042688,
     "end_time": "2021-07-14T13:47:55.816602",
     "exception": false,
     "start_time": "2021-07-14T13:47:55.773914",
     "status": "completed"
    },
    "tags": []
   },
   "outputs": [
    {
     "name": "stdout",
     "output_type": "stream",
     "text": [
      "<bound method NDFrame.describe of       LotArea  YearBuilt  1stFlrSF  2ndFlrSF  FullBath  BedroomAbvGr  \\\n",
      "0        8450       2003       856       854         2             3   \n",
      "1        9600       1976      1262         0         2             3   \n",
      "2       11250       2001       920       866         2             3   \n",
      "3        9550       1915       961       756         1             3   \n",
      "4       14260       2000      1145      1053         2             4   \n",
      "...       ...        ...       ...       ...       ...           ...   \n",
      "1455     7917       1999       953       694         2             3   \n",
      "1456    13175       1978      2073         0         2             3   \n",
      "1457     9042       1941      1188      1152         2             4   \n",
      "1458     9717       1950      1078         0         1             2   \n",
      "1459     9937       1965      1256         0         1             3   \n",
      "\n",
      "      TotRmsAbvGrd  \n",
      "0                8  \n",
      "1                6  \n",
      "2                6  \n",
      "3                7  \n",
      "4                9  \n",
      "...            ...  \n",
      "1455             7  \n",
      "1456             7  \n",
      "1457             9  \n",
      "1458             5  \n",
      "1459             6  \n",
      "\n",
      "[1460 rows x 7 columns]>\n",
      "<bound method NDFrame.head of       LotArea  YearBuilt  1stFlrSF  2ndFlrSF  FullBath  BedroomAbvGr  \\\n",
      "0        8450       2003       856       854         2             3   \n",
      "1        9600       1976      1262         0         2             3   \n",
      "2       11250       2001       920       866         2             3   \n",
      "3        9550       1915       961       756         1             3   \n",
      "4       14260       2000      1145      1053         2             4   \n",
      "...       ...        ...       ...       ...       ...           ...   \n",
      "1455     7917       1999       953       694         2             3   \n",
      "1456    13175       1978      2073         0         2             3   \n",
      "1457     9042       1941      1188      1152         2             4   \n",
      "1458     9717       1950      1078         0         1             2   \n",
      "1459     9937       1965      1256         0         1             3   \n",
      "\n",
      "      TotRmsAbvGrd  \n",
      "0                8  \n",
      "1                6  \n",
      "2                6  \n",
      "3                7  \n",
      "4                9  \n",
      "...            ...  \n",
      "1455             7  \n",
      "1456             7  \n",
      "1457             9  \n",
      "1458             5  \n",
      "1459             6  \n",
      "\n",
      "[1460 rows x 7 columns]>\n"
     ]
    }
   ],
   "source": [
    "# Review data\n",
    "#print description or statistics from X\n",
    "print(X.describe)\n",
    "\n",
    "# print the top few lines\n",
    "print(X.head)"
   ]
  },
  {
   "cell_type": "markdown",
   "id": "b08b1ed2",
   "metadata": {
    "papermill": {
     "duration": 0.018774,
     "end_time": "2021-07-14T13:47:55.855052",
     "exception": false,
     "start_time": "2021-07-14T13:47:55.836278",
     "status": "completed"
    },
    "tags": []
   },
   "source": [
    "## Step 3: Specify and Fit Model\n",
    "Create a `DecisionTreeRegressor` and save it iowa_model. Ensure you've done the relevant import from sklearn to run this command.\n",
    "\n",
    "Then fit the model you just created using the data in `X` and `y` that you saved above."
   ]
  },
  {
   "cell_type": "code",
   "execution_count": 8,
   "id": "1ad63b5c",
   "metadata": {
    "execution": {
     "iopub.execute_input": "2021-07-14T13:47:55.902708Z",
     "iopub.status.busy": "2021-07-14T13:47:55.901998Z",
     "iopub.status.idle": "2021-07-14T13:47:55.917181Z",
     "shell.execute_reply": "2021-07-14T13:47:55.916604Z"
    },
    "papermill": {
     "duration": 0.043111,
     "end_time": "2021-07-14T13:47:55.917326",
     "exception": false,
     "start_time": "2021-07-14T13:47:55.874215",
     "status": "completed"
    },
    "tags": []
   },
   "outputs": [
    {
     "data": {
      "application/javascript": [
       "parent.postMessage({\"jupyterEvent\": \"custom.exercise_interaction\", \"data\": {\"outcomeType\": 1, \"valueTowardsCompletion\": 0.25, \"interactionType\": 1, \"questionType\": 2, \"questionId\": \"3_CreateModel\", \"learnToolsVersion\": \"0.3.4\", \"failureMessage\": \"\", \"exceptionClass\": \"\", \"trace\": \"\"}}, \"*\")"
      ],
      "text/plain": [
       "<IPython.core.display.Javascript object>"
      ]
     },
     "metadata": {},
     "output_type": "display_data"
    },
    {
     "data": {
      "text/markdown": [
       "<span style=\"color:#33cc33\">Correct</span>"
      ],
      "text/plain": [
       "Correct"
      ]
     },
     "metadata": {},
     "output_type": "display_data"
    }
   ],
   "source": [
    "from sklearn.tree import DecisionTreeRegressor\n",
    "#specify the model. \n",
    "#For model reproducibility, set a numeric value for random_state when specifying the model\n",
    "iowa_model = DecisionTreeRegressor(random_state=2)\n",
    "\n",
    "# Fit the model\n",
    "iowa_model.fit(X,y)\n",
    "\n",
    "# Check your answer\n",
    "step_3.check()"
   ]
  },
  {
   "cell_type": "code",
   "execution_count": 9,
   "id": "9873d7b2",
   "metadata": {
    "collapsed": true,
    "execution": {
     "iopub.execute_input": "2021-07-14T13:47:55.962550Z",
     "iopub.status.busy": "2021-07-14T13:47:55.961903Z",
     "iopub.status.idle": "2021-07-14T13:47:55.965487Z",
     "shell.execute_reply": "2021-07-14T13:47:55.964811Z"
    },
    "jupyter": {
     "outputs_hidden": true
    },
    "papermill": {
     "duration": 0.027395,
     "end_time": "2021-07-14T13:47:55.965635",
     "exception": false,
     "start_time": "2021-07-14T13:47:55.938240",
     "status": "completed"
    },
    "tags": []
   },
   "outputs": [],
   "source": [
    "# step_3.hint()\n",
    "# step_3.solution()"
   ]
  },
  {
   "cell_type": "markdown",
   "id": "fdcd8090",
   "metadata": {
    "papermill": {
     "duration": 0.019797,
     "end_time": "2021-07-14T13:47:56.006121",
     "exception": false,
     "start_time": "2021-07-14T13:47:55.986324",
     "status": "completed"
    },
    "tags": []
   },
   "source": [
    "## Step 4: Make Predictions\n",
    "Make predictions with the model's `predict` command using `X` as the data. Save the results to a variable called `predictions`."
   ]
  },
  {
   "cell_type": "code",
   "execution_count": 10,
   "id": "65770ce9",
   "metadata": {
    "execution": {
     "iopub.execute_input": "2021-07-14T13:47:56.054847Z",
     "iopub.status.busy": "2021-07-14T13:47:56.054152Z",
     "iopub.status.idle": "2021-07-14T13:47:56.064799Z",
     "shell.execute_reply": "2021-07-14T13:47:56.064235Z"
    },
    "papermill": {
     "duration": 0.038027,
     "end_time": "2021-07-14T13:47:56.064940",
     "exception": false,
     "start_time": "2021-07-14T13:47:56.026913",
     "status": "completed"
    },
    "tags": []
   },
   "outputs": [
    {
     "name": "stdout",
     "output_type": "stream",
     "text": [
      "[208500. 181500. 223500. ... 266500. 142125. 147500.]\n"
     ]
    },
    {
     "data": {
      "application/javascript": [
       "parent.postMessage({\"jupyterEvent\": \"custom.exercise_interaction\", \"data\": {\"outcomeType\": 1, \"valueTowardsCompletion\": 0.25, \"interactionType\": 1, \"questionType\": 2, \"questionId\": \"4_MakePredictions\", \"learnToolsVersion\": \"0.3.4\", \"failureMessage\": \"\", \"exceptionClass\": \"\", \"trace\": \"\"}}, \"*\")"
      ],
      "text/plain": [
       "<IPython.core.display.Javascript object>"
      ]
     },
     "metadata": {},
     "output_type": "display_data"
    },
    {
     "data": {
      "text/markdown": [
       "<span style=\"color:#33cc33\">Correct</span>"
      ],
      "text/plain": [
       "Correct"
      ]
     },
     "metadata": {},
     "output_type": "display_data"
    }
   ],
   "source": [
    "predictions = iowa_model.predict(X)\n",
    "print(predictions)\n",
    "\n",
    "# Check your answer\n",
    "step_4.check()"
   ]
  },
  {
   "cell_type": "code",
   "execution_count": 11,
   "id": "58f7366e",
   "metadata": {
    "collapsed": true,
    "execution": {
     "iopub.execute_input": "2021-07-14T13:47:56.113329Z",
     "iopub.status.busy": "2021-07-14T13:47:56.112544Z",
     "iopub.status.idle": "2021-07-14T13:47:56.115661Z",
     "shell.execute_reply": "2021-07-14T13:47:56.115152Z"
    },
    "jupyter": {
     "outputs_hidden": true
    },
    "papermill": {
     "duration": 0.029,
     "end_time": "2021-07-14T13:47:56.115820",
     "exception": false,
     "start_time": "2021-07-14T13:47:56.086820",
     "status": "completed"
    },
    "tags": []
   },
   "outputs": [],
   "source": [
    "# step_4.hint()\n",
    "# step_4.solution()"
   ]
  },
  {
   "cell_type": "markdown",
   "id": "5b41e5ec",
   "metadata": {
    "papermill": {
     "duration": 0.022913,
     "end_time": "2021-07-14T13:47:56.160609",
     "exception": false,
     "start_time": "2021-07-14T13:47:56.137696",
     "status": "completed"
    },
    "tags": []
   },
   "source": [
    "## Think About Your Results\n",
    "\n",
    "Use the `head` method to compare the top few predictions to the actual home values (in `y`) for those same homes. Anything surprising?\n"
   ]
  },
  {
   "cell_type": "code",
   "execution_count": 12,
   "id": "a1679153",
   "metadata": {
    "execution": {
     "iopub.execute_input": "2021-07-14T13:47:56.211037Z",
     "iopub.status.busy": "2021-07-14T13:47:56.210327Z",
     "iopub.status.idle": "2021-07-14T13:47:56.213429Z",
     "shell.execute_reply": "2021-07-14T13:47:56.214047Z"
    },
    "papermill": {
     "duration": 0.031306,
     "end_time": "2021-07-14T13:47:56.214217",
     "exception": false,
     "start_time": "2021-07-14T13:47:56.182911",
     "status": "completed"
    },
    "tags": []
   },
   "outputs": [
    {
     "data": {
      "text/plain": [
       "0    208500\n",
       "1    181500\n",
       "2    223500\n",
       "3    140000\n",
       "4    250000\n",
       "Name: SalePrice, dtype: int64"
      ]
     },
     "execution_count": 12,
     "metadata": {},
     "output_type": "execute_result"
    }
   ],
   "source": [
    "# You can write code in this cell\n",
    "y.head()"
   ]
  },
  {
   "cell_type": "markdown",
   "id": "93d60321",
   "metadata": {
    "papermill": {
     "duration": 0.022272,
     "end_time": "2021-07-14T13:47:56.258887",
     "exception": false,
     "start_time": "2021-07-14T13:47:56.236615",
     "status": "completed"
    },
    "tags": []
   },
   "source": [
    "It's natural to ask how accurate the model's predictions will be and how you can improve that. That will be you're next step.\n",
    "\n",
    "# Keep Going\n",
    "\n",
    "You are ready for **[Model Validation](https://www.kaggle.com/dansbecker/model-validation).**\n"
   ]
  },
  {
   "cell_type": "markdown",
   "id": "e7c8a8c2",
   "metadata": {
    "papermill": {
     "duration": 0.022343,
     "end_time": "2021-07-14T13:47:56.304616",
     "exception": false,
     "start_time": "2021-07-14T13:47:56.282273",
     "status": "completed"
    },
    "tags": []
   },
   "source": [
    "---\n",
    "\n",
    "\n",
    "\n",
    "\n",
    "*Have questions or comments? Visit the [Learn Discussion forum](https://www.kaggle.com/learn-forum/161285) to chat with other Learners.*"
   ]
  }
 ],
 "metadata": {
  "kernelspec": {
   "display_name": "Python 3",
   "language": "python",
   "name": "python3"
  },
  "language_info": {
   "codemirror_mode": {
    "name": "ipython",
    "version": 3
   },
   "file_extension": ".py",
   "mimetype": "text/x-python",
   "name": "python",
   "nbconvert_exporter": "python",
   "pygments_lexer": "ipython3",
   "version": "3.7.10"
  },
  "papermill": {
   "default_parameters": {},
   "duration": 11.422422,
   "end_time": "2021-07-14T13:47:57.037419",
   "environment_variables": {},
   "exception": null,
   "input_path": "__notebook__.ipynb",
   "output_path": "__notebook__.ipynb",
   "parameters": {},
   "start_time": "2021-07-14T13:47:45.614997",
   "version": "2.3.3"
  }
 },
 "nbformat": 4,
 "nbformat_minor": 5
}
